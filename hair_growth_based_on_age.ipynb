{
  "nbformat": 4,
  "nbformat_minor": 0,
  "metadata": {
    "colab": {
      "provenance": [],
      "include_colab_link": true
    },
    "kernelspec": {
      "name": "python3",
      "display_name": "Python 3"
    },
    "language_info": {
      "name": "python"
    }
  },
  "cells": [
    {
      "cell_type": "markdown",
      "metadata": {
        "id": "view-in-github",
        "colab_type": "text"
      },
      "source": [
        "<a href=\"https://colab.research.google.com/github/manoj-73/Hair-growth-predection-/blob/main/hair_growth_based_on_age.ipynb\" target=\"_parent\"><img src=\"https://colab.research.google.com/assets/colab-badge.svg\" alt=\"Open In Colab\"/></a>"
      ]
    },
    {
      "cell_type": "code",
      "source": [
        "# Import necessary libraries\n",
        "import pandas as pd\n",
        "import numpy as np\n",
        "from sklearn.model_selection import train_test_split\n",
        "from sklearn.ensemble import RandomForestRegressor\n",
        "from sklearn.metrics import mean_squared_error, r2_score, accuracy_score\n",
        "from sklearn.preprocessing import StandardScaler, LabelEncoder\n",
        "\n",
        "# Load the dataset (Make sure the file is in the correct path)\n",
        "file_path = \"/content/HAIR 1.xlsx\"  # Change this path based on your file location\n",
        "data = pd.read_excel(file_path, engine=\"openpyxl\")\n",
        "\n",
        "# Drop completely empty rows (if any)\n",
        "data = data.dropna(how=\"all\")\n",
        "\n",
        "# Handle categorical features automatically\n",
        "for column in data.select_dtypes(include=['object']).columns:\n",
        "    data[column] = LabelEncoder().fit_transform(data[column])\n",
        "\n",
        "# Define Features (X) and Target (y)\n",
        "X = data.drop(columns=[data.columns[-1]])  # Features (all except last column)\n",
        "y = data.iloc[:, -1]  # Target variable (last column)\n",
        "\n",
        "# Split dataset into Training (80%) and Testing (20%)\n",
        "X_train, X_test, y_train, y_test = train_test_split(X, y, test_size=0.2, random_state=42)\n",
        "\n",
        "# Scale features for better model performance\n",
        "scaler = StandardScaler()\n",
        "X_train_scaled = scaler.fit_transform(X_train)\n",
        "X_test_scaled = scaler.transform(X_test)\n",
        "\n",
        "# Initialize Random Forest Regressor\n",
        "rf_model = RandomForestRegressor(n_estimators=200, max_depth=20, random_state=42)\n",
        "\n",
        "# Train the model\n",
        "rf_model.fit(X_train_scaled, y_train)\n",
        "\n",
        "# Make predictions\n",
        "y_pred = rf_model.predict(X_test_scaled)\n",
        "\n",
        "# Calculate Model Performance Metrics\n",
        "mse = mean_squared_error(y_test, y_pred)\n",
        "r2 = r2_score(y_test, y_pred)\n",
        "\n",
        "# Convert regression predictions to classification labels\n",
        "y_pred_classes = np.round(y_pred)  # Convert to nearest integer class\n",
        "y_test_classes = np.round(y_test)  # Convert test labels to integer\n",
        "\n",
        "# Calculate accuracy\n",
        "accuracy = accuracy_score(y_test_classes, y_pred_classes)\n",
        "\n",
        "# Print Results\n",
        "print(\"\\nModel Performance Metrics:\")\n",
        "print(f\"Mean Squared Error (MSE): {mse}\")\n",
        "print(f\"R-squared Score (R²): {r2}\")\n",
        "print(f\"Accuracy: {accuracy}\")"
      ],
      "metadata": {
        "colab": {
          "base_uri": "https://localhost:8080/"
        },
        "id": "3XQe1gL6LLeP",
        "outputId": "7c0604c5-70f4-4cfa-8f19-1eb691fc19a6"
      },
      "execution_count": null,
      "outputs": [
        {
          "output_type": "stream",
          "name": "stdout",
          "text": [
            "\n",
            "Model Performance Metrics:\n",
            "Mean Squared Error (MSE): 0.057248977612138596\n",
            "R-squared Score (R²): 0.9972757584890176\n",
            "Accuracy: 0.9375\n"
          ]
        }
      ]
    }
  ]
}